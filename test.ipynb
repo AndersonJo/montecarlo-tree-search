{
 "cells": [
  {
   "cell_type": "code",
   "execution_count": 1,
   "metadata": {},
   "outputs": [
    {
     "name": "stderr",
     "output_type": "stream",
     "text": [
      "No traceback available to show.\n"
     ]
    },
    {
     "name": "stdout",
     "output_type": "stream",
     "text": [
      "Populating the interactive namespace from numpy and matplotlib\n"
     ]
    }
   ],
   "source": [
    "%tb\n",
    "%pylab inline\n",
    "import gym\n",
    "\n",
    "from mcts import load, MCTS, Node\n",
    "from IPython.display import clear_output"
   ]
  },
  {
   "cell_type": "markdown",
   "metadata": {},
   "source": [
    "# 손으로 돌려보기\n",
    "\n",
    "목표는 파란색에서 pickup 한다음에 핑크색에 가서 dropoff 해야한다. <br>\n",
    "wasd 로 택시를 움직이고, f로 pickup하고, r로 dropoff를 한다\n"
   ]
  },
  {
   "cell_type": "code",
   "execution_count": 2,
   "metadata": {
    "scrolled": true
   },
   "outputs": [
    {
     "name": "stdout",
     "output_type": "stream",
     "text": [
      "+---------+\n",
      "|\u001b[35m\u001b[42mR\u001b[0m\u001b[0m: | : :G|\n",
      "| : : : : |\n",
      "| : : : : |\n",
      "| | : | : |\n",
      "|Y| : |B: |\n",
      "+---------+\n",
      "  (Dropoff)\n",
      "observation: 16 reward: 20 info: {'prob': 1.0}\n"
     ]
    }
   ],
   "source": [
    "taxi = gym.make('Taxi-v2')\n",
    "taxi.reset()\n",
    "taxi.render()\n",
    "keys = {'a':3, 'd': 2, 'w': 1, 's': 0, 'f':4, 'r': 5}\n",
    "\n",
    "while True:\n",
    "    k = input().strip()\n",
    "    if k not in keys:\n",
    "        continue\n",
    "    k = keys[k]\n",
    "    \n",
    "    observation, reward, done, info = taxi.step(k)\n",
    "    if done:\n",
    "        clear_output()\n",
    "        taxi.render()\n",
    "        print('observation:', observation, 'reward:', reward, 'info:', info)\n",
    "        break\n",
    "    \n",
    "    clear_output()\n",
    "    taxi.render()\n",
    "    print('observation:', observation, 'reward:', reward, 'info:', info)"
   ]
  },
  {
   "cell_type": "markdown",
   "metadata": {},
   "source": [
    "# 학습된 모델 테스트\n",
    "\n",
    "실행시키기 위해서는 먼저 모델 학습을 먼저 시켜야 합니다."
   ]
  },
  {
   "cell_type": "code",
   "execution_count": 2,
   "metadata": {},
   "outputs": [
    {
     "name": "stdout",
     "output_type": "stream",
     "text": [
      "Loading checkpoint.pkl\n",
      "{'mcts': <mcts.MCTS object at 0x7f951d4e1128>, 'seed': 38260}\n",
      "Loading Done\n"
     ]
    },
    {
     "name": "stderr",
     "output_type": "stream",
     "text": [
      "/usr/local/lib/python3.6/site-packages/gym/envs/registration.py:14: PkgResourcesDeprecationWarning: Parameters to load are deprecated.  Call .resolve and .require separately.\n",
      "  result = entry_point.load(False)\n"
     ]
    }
   ],
   "source": [
    "mcts, seed = load()\n",
    "taxi = gym.make('Taxi-v2')\n",
    "ACTIONS = {'left': 3, 'right': 2, 'up': 1, 'down': 0, 'pickup0': 4, 'dropoff': 5}\n",
    "REV_ACTIONS = {v:k for k, v in ACTIONS.items()}"
   ]
  },
  {
   "cell_type": "code",
   "execution_count": 3,
   "metadata": {
    "scrolled": true
   },
   "outputs": [
    {
     "name": "stdout",
     "output_type": "stream",
     "text": [
      "+---------+\n",
      "|R: | : :G|\n",
      "| : : : : |\n",
      "| : : : : |\n",
      "| | : | : |\n",
      "|\u001b[35m\u001b[42mY\u001b[0m\u001b[0m| : |B: |\n",
      "+---------+\n",
      "  (Dropoff)\n",
      "None action: dropoff reward: 20\n"
     ]
    }
   ],
   "source": [
    "taxi.seed(seed)\n",
    "state = taxi.reset()\n",
    "mcts.reset()\n",
    "while True:\n",
    "    action = mcts.search_action(state, exploration_rate=0)\n",
    "    state, reward, done, info = taxi.step(action)\n",
    "    print(taxi.render(), 'action:', REV_ACTIONS[action], 'reward:', reward)\n",
    "    \n",
    "    if done:\n",
    "        break\n",
    "    input()\n",
    "    clear_output()"
   ]
  },
  {
   "cell_type": "markdown",
   "metadata": {},
   "source": [
    "# GIF 만들기\n",
    "\n",
    "결과물 첨부하기 위해서 만든 코드 입니다. <br>\n",
    "무시하셔도 됩니다."
   ]
  },
  {
   "cell_type": "code",
   "execution_count": 1,
   "metadata": {},
   "outputs": [
    {
     "name": "stdout",
     "output_type": "stream",
     "text": [
      "pygame 1.9.4\n",
      "Hello from the pygame community. https://www.pygame.org/contribute.html\n"
     ]
    }
   ],
   "source": [
    "from moviepy.editor import VideoFileClip\n",
    "from moviepy.video.fx import rotate"
   ]
  },
  {
   "cell_type": "code",
   "execution_count": 4,
   "metadata": {},
   "outputs": [
    {
     "name": "stdout",
     "output_type": "stream",
     "text": [
      "\n",
      "[MoviePy] >>>> Building file demo.gif\n",
      "[MoviePy] Generating GIF frames...\n"
     ]
    },
    {
     "name": "stderr",
     "output_type": "stream",
     "text": [
      "100%|██████████| 168/168 [01:40<00:00,  1.84it/s]"
     ]
    },
    {
     "name": "stdout",
     "output_type": "stream",
     "text": [
      "[MoviePy] Optimizing the GIF with ImageMagick...\n"
     ]
    },
    {
     "name": "stderr",
     "output_type": "stream",
     "text": [
      "\n"
     ]
    },
    {
     "name": "stdout",
     "output_type": "stream",
     "text": [
      "[MoviePy] >>>> File demo.gif is ready!"
     ]
    }
   ],
   "source": [
    "clip = VideoFileClip('demo.mp4', audio=False)\n",
    "clip = clip.resize((225, 400)).speedx(2)\n",
    "clip.write_gif('demo.gif', program='ImageMagick', fuzz=0.1, fps=12)"
   ]
  }
 ],
 "metadata": {
  "kernelspec": {
   "display_name": "Python 3",
   "language": "python",
   "name": "python3"
  },
  "language_info": {
   "codemirror_mode": {
    "name": "ipython",
    "version": 3
   },
   "file_extension": ".py",
   "mimetype": "text/x-python",
   "name": "python",
   "nbconvert_exporter": "python",
   "pygments_lexer": "ipython3",
   "version": "3.6.7"
  }
 },
 "nbformat": 4,
 "nbformat_minor": 2
}
