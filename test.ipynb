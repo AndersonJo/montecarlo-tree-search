{
 "cells": [
  {
   "cell_type": "code",
   "execution_count": 1,
   "metadata": {},
   "outputs": [
    {
     "name": "stdout",
     "output_type": "stream",
     "text": [
      "Populating the interactive namespace from numpy and matplotlib\n"
     ]
    }
   ],
   "source": [
    "%pylab inline\n",
    "import gym\n",
    "\n",
    "from mcts import load, MCTS, Node\n",
    "from IPython.display import clear_output"
   ]
  },
  {
   "cell_type": "markdown",
   "metadata": {},
   "source": [
    "## 손으로 돌려보기\n",
    "\n",
    "목표는 파란색에서 pickup 한다음에 핑크색에 가서 dropoff 해야한다. <br>\n",
    "wasd 로 택시를 움직이고, f로 pickup하고, r로 dropoff를 한다\n"
   ]
  },
  {
   "cell_type": "code",
   "execution_count": 8,
   "metadata": {
    "scrolled": true
   },
   "outputs": [
    {
     "name": "stdout",
     "output_type": "stream",
     "text": [
      "+---------+\n",
      "|R: | : :G|\n",
      "| : : : : |\n",
      "| : : : : |\n",
      "| | : | : |\n",
      "|Y| : |\u001b[35m\u001b[42mB\u001b[0m\u001b[0m: |\n",
      "+---------+\n",
      "  (West)\n",
      "r\n",
      "observation: 479 reward: 20 info: {'prob': 1.0}\n"
     ]
    }
   ],
   "source": [
    "taxi = gym.make('Taxi-v2')\n",
    "taxi.reset()\n",
    "taxi.render()\n",
    "keys = {'a':3, 'd': 2, 'w': 1, 's': 0, 'f':4, 'r': 5}\n",
    "\n",
    "while True:\n",
    "    k = input().strip()\n",
    "    if k not in keys:\n",
    "        continue\n",
    "    k = keys[k]\n",
    "    \n",
    "    observation, reward, done, info = taxi.step(k)\n",
    "    print('observation:', observation, 'reward:', reward, 'info:', info)\n",
    "    if done:\n",
    "        break\n",
    "    \n",
    "    clear_output()\n",
    "    taxi.render()"
   ]
  },
  {
   "cell_type": "markdown",
   "metadata": {},
   "source": [
    "# 학습된 모델 테스트\n",
    "\n",
    "실행시키기 위해서는 먼저 모델 학습을 먼저 시켜야 합니다."
   ]
  },
  {
   "cell_type": "code",
   "execution_count": 2,
   "metadata": {},
   "outputs": [
    {
     "name": "stdout",
     "output_type": "stream",
     "text": [
      "Loading checkpoint.pkl\n",
      "Loading Done\n"
     ]
    },
    {
     "name": "stderr",
     "output_type": "stream",
     "text": [
      "/usr/local/lib/python3.6/site-packages/gym/envs/registration.py:14: PkgResourcesDeprecationWarning: Parameters to load are deprecated.  Call .resolve and .require separately.\n",
      "  result = entry_point.load(False)\n"
     ]
    }
   ],
   "source": [
    "mcts = load()\n",
    "taxi = gym.make('Taxi-v2')\n",
    "ACTIONS = {'left': 3, 'right': 2, 'up': 1, 'down': 0, 'pickup0': 4, 'dropoff': 5}\n",
    "REV_ACTIONS = {v:k for k, v in ACTIONS.items()}"
   ]
  },
  {
   "cell_type": "code",
   "execution_count": 4,
   "metadata": {
    "scrolled": true
   },
   "outputs": [
    {
     "name": "stdout",
     "output_type": "stream",
     "text": [
      "+---------+\n",
      "|R: | : :G|\n",
      "| : : : : |\n",
      "| : : : : |\n",
      "| | : | : |\n",
      "|Y| : |\u001b[35m\u001b[42mB\u001b[0m\u001b[0m: |\n",
      "+---------+\n",
      "  (Dropoff)\n",
      "None action: dropoff reward: 20\n"
     ]
    }
   ],
   "source": [
    "taxi.seed(2)\n",
    "state = taxi.reset()\n",
    "mcts.reset()\n",
    "while True:\n",
    "    action = mcts.search_action(state, exploration_rate=0.01)\n",
    "    state, reward, done, info = taxi.step(action)\n",
    "    print(taxi.render(), 'action:', REV_ACTIONS[action], 'reward:', reward)\n",
    "    \n",
    "    if done:\n",
    "        break\n",
    "    input()\n",
    "    clear_output()\n",
    "    \n",
    "    "
   ]
  }
 ],
 "metadata": {
  "kernelspec": {
   "display_name": "Python 3",
   "language": "python",
   "name": "python3"
  },
  "language_info": {
   "codemirror_mode": {
    "name": "ipython",
    "version": 3
   },
   "file_extension": ".py",
   "mimetype": "text/x-python",
   "name": "python",
   "nbconvert_exporter": "python",
   "pygments_lexer": "ipython3",
   "version": "3.6.7"
  }
 },
 "nbformat": 4,
 "nbformat_minor": 2
}
